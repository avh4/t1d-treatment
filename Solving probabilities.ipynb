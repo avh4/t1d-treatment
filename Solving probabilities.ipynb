{
 "cells": [
  {
   "cell_type": "markdown",
   "metadata": {},
   "source": [
    "$$\n",
    "\\begin{eqnarray}\n",
    "Y &=& K(X-E_x) + E_y \\\\\n",
    "p(E_x \\leq n) &=& \\Phi(n,\\sigma_x) \\\\\n",
    "p(E_y \\leq n) &=& \\Phi(n,\\sigma_y)\n",
    "\\end{eqnarray}\n",
    "$$\n",
    "$ E_x, E_y $ are independent\n",
    "\n",
    "$$ K = \\frac{Y-E_y}{X-E_x} $$\n",
    "$$\n",
    "\\begin{eqnarray}\n",
    "p(X-E_x > 0) \\\\\n",
    "  &=& 1-p(X-E_x \\leq 0) \\\\\n",
    "  &=& 1-p(E_x \\geq X) \\\\\n",
    "  &=& p(E_x \\leq X) \\\\\n",
    "  &=& \\Phi(X,\\sigma_x)\n",
    "\\end{eqnarray}\n",
    "$$\n",
    "$$\n",
    "\\begin{eqnarray}\n",
    "p( Y-E_y \\leq (X-E_x)n | x-E_x > 0) \\\\\n",
    "  &=& p( Y-E_y \\leq (X-E_x)n ) \\\\\n",
    "  &=& p( E_y \\geq Y - (X-E_x)n ) \\\\\n",
    "  &=& 1-\\Phi(Y-(X-E_x)*n,\\sigma_y)\n",
    "\\end{eqnarray}\n",
    "$$\n",
    "\n",
    "Solve for $ p(K \\leq n) $\n",
    "$$\n",
    "\\begin{eqnarray}\n",
    "  &=& p\\left( \\frac{Y-E_y}{X-E_x} \\leq n\\right) \\\\\n",
    "  &=& p( Y-Ey \\leq (X-E_x)n | x-E_x > 0)p(X-E_x > 0) \\\\\n",
    "    && + p( Y-E_y \\geq (X-E_x)n | x-E_x < 0)p(X-E_x < 0) \\\\\n",
    "  &=& p( Y-E_y \\leq (X-E_x)n | x-E_x > 0)\\Phi(X,\\sigma_x) \\\\\n",
    "    && + p( Y-E_y \\geq (X-E_x)n | x-E_x < 0)(1-\\Phi(X,\\sigma_x)) \\\\\n",
    "  &=& (1-\\Phi(Y-(X-E_x)n,\\sigma_y))\\Phi(X,\\sigma_x) \\\\\n",
    "    && + \\Phi(Y-(X-E_x)n,\\sigma_y)(1-\\Phi(X,\\sigma_x)) \\\\\n",
    "\\end{eqnarray}\n",
    "$$"
   ]
  },
  {
   "cell_type": "code",
   "execution_count": 2,
   "metadata": {
    "collapsed": false
   },
   "outputs": [
    {
     "name": "stdout",
     "output_type": "stream",
     "text": [
      "Populating the interactive namespace from numpy and matplotlib\n"
     ]
    }
   ],
   "source": [
    "pylab inline"
   ]
  },
  {
   "cell_type": "code",
   "execution_count": 3,
   "metadata": {
    "collapsed": false
   },
   "outputs": [
    {
     "data": {
      "text/plain": [
       "[<matplotlib.lines.Line2D at 0x1067d4b10>]"
      ]
     },
     "execution_count": 3,
     "metadata": {},
     "output_type": "execute_result"
    },
    {
     "data": {
      "image/png": "[encoded data removed]",
      "text/plain": [
       "<matplotlib.figure.Figure at 0x1060cf150>"
      ]
     },
     "metadata": {},
     "output_type": "display_data"
    }
   ],
   "source": [
    "import matplotlib.pyplot as plt\n",
    "import scipy.special as ss\n",
    "\n",
    "# def phi(mu, sigma, n):\n",
    "#     return 1/(sigma * np.sqrt(2 * np.pi)) * np.exp( - (n - mu)**2 / (2 * sigma**2))\n",
    "\n",
    "def Phi(x):\n",
    "    return (1+ss.erf(x / np.sqrt(2))) * 0.5 \n",
    "\n",
    "def ph(x, sigma):\n",
    "    mu = 0\n",
    "    return Phi((x-mu)/sigma)\n",
    "\n",
    "mu, sigma = 0, 0.1\n",
    "s = np.random.normal(mu, sigma, 1000)\n",
    "count, bins, ignored = plt.hist(s, 30, normed=True)\n",
    "plt.plot(bins, ph(bins, sigma), linewidth=2, color='r')"
   ]
  },
  {
   "cell_type": "code",
   "execution_count": 4,
   "metadata": {
    "collapsed": false
   },
   "outputs": [
    {
     "data": {
      "text/plain": [
       "<matplotlib.collections.PathCollection at 0x106b5fd90>"
      ]
     },
     "execution_count": 4,
     "metadata": {},
     "output_type": "execute_result"
    },
    {
     "data": {
      "image/png": "[encoded data removed]",
      "text/plain": [
       "<matplotlib.figure.Figure at 0x10695e2d0>"
      ]
     },
     "metadata": {},
     "output_type": "display_data"
    }
   ],
   "source": [
    "X = ( 1.0, 2.1, 2.98, 4.05)\n",
    "Y = ( 15, 16.5, 19, 23)\n",
    "sx = 1\n",
    "sy = 1\n",
    "plt.scatter(X, Y)"
   ]
  },
  {
   "cell_type": "code",
   "execution_count": 5,
   "metadata": {
    "collapsed": false
   },
   "outputs": [
    {
     "data": {
      "text/plain": [
       "<matplotlib.collections.PathCollection at 0x106c82810>"
      ]
     },
     "execution_count": 5,
     "metadata": {},
     "output_type": "execute_result"
    },
    {
     "data": {
      "image/png": "[encoded data removed]",
      "text/plain": [
       "<matplotlib.figure.Figure at 0x1068f72d0>"
      ]
     },
     "metadata": {},
     "output_type": "display_data"
    }
   ],
   "source": [
    "# Φ(X,σx)\n",
    "plt.scatter(X,Phi(X))"
   ]
  },
  {
   "cell_type": "code",
   "execution_count": 6,
   "metadata": {
    "collapsed": false
   },
   "outputs": [
    {
     "data": {
      "text/plain": [
       "[<matplotlib.lines.Line2D at 0x106da1790>]"
      ]
     },
     "execution_count": 6,
     "metadata": {},
     "output_type": "execute_result"
    },
    {
     "data": {
      "image/png": "[encoded data removed]",
      "text/plain": [
       "<matplotlib.figure.Figure at 0x106bd3f90>"
      ]
     },
     "metadata": {},
     "output_type": "display_data"
    }
   ],
   "source": [
    "#(1−Φ((X−Ex)n−Y,σy))\n",
    "n = arange(-30, 30, 0.1)\n",
    "def f(i,n):\n",
    "    return 1 - Phi(X[i]*n-Y[i])\n",
    "plt.plot(n, f(0,n))\n",
    "plt.plot(n, f(1,n))\n",
    "plt.plot(n, f(2,n))\n",
    "plt.plot(n, f(3,n))"
   ]
  },
  {
   "cell_type": "code",
   "execution_count": 7,
   "metadata": {
    "collapsed": false
   },
   "outputs": [
    {
     "data": {
      "text/plain": [
       "[<matplotlib.lines.Line2D at 0x106ebc590>]"
      ]
     },
     "execution_count": 7,
     "metadata": {},
     "output_type": "execute_result"
    },
    {
     "data": {
      "image/png": "[encoded data removed]",
      "text/plain": [
       "<matplotlib.figure.Figure at 0x106bd3890>"
      ]
     },
     "metadata": {},
     "output_type": "display_data"
    }
   ],
   "source": [
    "#(1−Φ(Y-(X−Ex)n,σy))Φ(X,σx)\n",
    "n = arange(-30, 30, 0.1)\n",
    "def f(i,n):\n",
    "    return (1 - Phi(Y[i]-X[i]*n))*Phi(X[i])\n",
    "plt.plot(n, f(0,n))\n",
    "plt.plot(n, f(1,n))\n",
    "plt.plot(n, f(2,n))\n",
    "plt.plot(n, f(3,n))"
   ]
  },
  {
   "cell_type": "code",
   "execution_count": 8,
   "metadata": {
    "collapsed": false
   },
   "outputs": [
    {
     "data": {
      "text/plain": [
       "[<matplotlib.lines.Line2D at 0x106fd2590>]"
      ]
     },
     "execution_count": 8,
     "metadata": {},
     "output_type": "execute_result"
    },
    {
     "data": {
      "image/png": "[encoded data removed]",
      "text/plain": [
       "<matplotlib.figure.Figure at 0x106e13310>"
      ]
     },
     "metadata": {},
     "output_type": "display_data"
    }
   ],
   "source": [
    "# Φ(Y-(X−Ex)n,σy)(1−Φ(X,σx))\n",
    "n = arange(-30, 30, 0.1)\n",
    "def f(i,n):\n",
    "    return Phi(Y[i]-X[i]*n)*(1-Phi(X[i]))\n",
    "plt.plot(n, f(0,n))\n",
    "plt.plot(n, f(1,n))\n",
    "plt.plot(n, f(2,n))\n",
    "plt.plot(n, f(3,n))"
   ]
  },
  {
   "cell_type": "code",
   "execution_count": 9,
   "metadata": {
    "collapsed": false
   },
   "outputs": [
    {
     "data": {
      "text/plain": [
       "[<matplotlib.lines.Line2D at 0x1070fe450>]"
      ]
     },
     "execution_count": 9,
     "metadata": {},
     "output_type": "execute_result"
    },
    {
     "data": {
      "image/png": "[encoded data removed]",
      "text/plain": [
       "<matplotlib.figure.Figure at 0x107010e10>"
      ]
     },
     "metadata": {},
     "output_type": "display_data"
    }
   ],
   "source": [
    "n = arange(-30, 30, 0.1)\n",
    "def f(i,n):\n",
    "    return (1 - Phi(Y[i]-X[i]*n))*Phi(X[i]) + Phi(Y[i]-X[i]*n)*(1-Phi(X[i]))\n",
    "plt.plot(n, f(0,n))\n",
    "plt.plot(n, f(1,n))\n",
    "plt.plot(n, f(2,n))\n",
    "plt.plot(n, f(3,n))"
   ]
  },
  {
   "cell_type": "code",
   "execution_count": 10,
   "metadata": {
    "collapsed": false
   },
   "outputs": [
    {
     "data": {
      "text/plain": [
       "array([ 15.        ,   7.85714286,   6.37583893,   5.67901235])"
      ]
     },
     "execution_count": 10,
     "metadata": {},
     "output_type": "execute_result"
    }
   ],
   "source": [
    "np.divide(Y,X)"
   ]
  },
  {
   "cell_type": "code",
   "execution_count": 49,
   "metadata": {
    "collapsed": false
   },
   "outputs": [
    {
     "data": {
      "text/plain": [
       "<matplotlib.image.AxesImage at 0x10b6cbe10>"
      ]
     },
     "execution_count": 49,
     "metadata": {},
     "output_type": "execute_result"
    },
    {
     "data": {
      "image/png": "[encoded data removed]",
      "text/plain": [
       "<matplotlib.figure.Figure at 0x10b5697d0>"
      ]
     },
     "metadata": {},
     "output_type": "display_data"
    }
   ],
   "source": [
    "n = arange(-30, 100, 0.1)\n",
    "\n",
    "\n",
    "def phi(mu, sigma, n):\n",
    "    return 1/(sigma * np.sqrt(2 * np.pi)) * np.exp( - (n - mu)**2 / (2 * sigma**2))\n",
    "\n",
    "def f(c, sc):\n",
    "    return phi(0, sc, 130-120-c) *phi(0, sc, 110-130-c) *phi(0, 1, 170-110-c)\n",
    "\n",
    "X,Y = meshgrid(arange(-30,100,0.1), arange(1,200,0.1))\n",
    "imshow(f(X,Y))"
   ]
  },
  {
   "cell_type": "code",
   "execution_count": 56,
   "metadata": {
    "collapsed": false
   },
   "outputs": [
    {
     "data": {
      "text/plain": [
       "<matplotlib.image.AxesImage at 0x109cc0090>"
      ]
     },
     "execution_count": 56,
     "metadata": {},
     "output_type": "execute_result"
    },
    {
     "data": {
      "image/png": "[encoded data removed]",
      "text/plain": [
       "<matplotlib.figure.Figure at 0x1021044d0>"
      ]
     },
     "metadata": {},
     "output_type": "display_data"
    }
   ],
   "source": [
    "n = arange(-30, 100, 0.1)\n",
    "\n",
    "def phi(mu, sigma, n):\n",
    "    return 1/(sigma * np.sqrt(2 * np.pi)) * np.exp( - (n - mu)**2 / (2 * sigma**2))\n",
    "\n",
    "def f(c, sc):\n",
    "    return phi(0, sc, 130-120-1*c) *phi(0, sc, 110-130-2*c) *phi(0, 1, 170-110-4*c)\n",
    "\n",
    "X,Y = meshgrid(arange(0,40,0.01), arange(1,100,0.1))\n",
    "imshow(f(X,Y))"
   ]
  }
 ],
 "metadata": {
  "kernelspec": {
   "display_name": "Python 2",
   "language": "python",
   "name": "python2"
  },
  "language_info": {
   "codemirror_mode": {
    "name": "ipython",
    "version": 2
   },
   "file_extension": ".py",
   "mimetype": "text/x-python",
   "name": "python",
   "nbconvert_exporter": "python",
   "pygments_lexer": "ipython2",
   "version": "2.7.10"
  }
 },
 "nbformat": 4,
 "nbformat_minor": 0
}
