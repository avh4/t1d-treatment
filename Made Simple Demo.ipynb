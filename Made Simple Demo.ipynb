{
 "cells": [
  {
   "cell_type": "markdown",
   "metadata": {},
   "source": [
    "* https://www.youtube.com/watch?v=5W715nfJNJw\n",
    "* http://www.thinkbayes.com"
   ]
  },
  {
   "cell_type": "code",
   "execution_count": 21,
   "metadata": {
    "collapsed": true
   },
   "outputs": [],
   "source": [
    "from scipy import stats\n",
    "import numpy as np\n",
    "import pylab\n",
    "import math\n",
    "%matplotlib inline"
   ]
  },
  {
   "cell_type": "code",
   "execution_count": 2,
   "metadata": {
    "collapsed": true
   },
   "outputs": [],
   "source": [
    "# Common definitions\n",
    "\n",
    "def normalize(n):\n",
    "    return n / np.sum(n)"
   ]
  },
  {
   "cell_type": "code",
   "execution_count": 8,
   "metadata": {
    "collapsed": false
   },
   "outputs": [
    {
     "name": "stdout",
     "output_type": "stream",
     "text": [
      "[ 0.52727273  0.47272727]\n"
     ]
    }
   ],
   "source": [
    "# Cookies\n",
    "\n",
    "p_vanilla = [30./40, 20./40]\n",
    "p_chocolate = [10./40, 20./40]\n",
    "\n",
    "th = np.array([0.5, 0.5])\n",
    "th = normalize(th * [30./40, 10./20]) # vanilla\n",
    "th = normalize(th * [10./39, 10./19]) # chocolate\n",
    "th = normalize(th * [29./38,  9./18]) # vanilla\n",
    "print th"
   ]
  },
  {
   "cell_type": "code",
   "execution_count": 9,
   "metadata": {
    "collapsed": false
   },
   "outputs": [
    {
     "name": "stdout",
     "output_type": "stream",
     "text": [
      "[ 0.          0.          0.91584527  0.08040343  0.0037513 ]\n"
     ]
    }
   ],
   "source": [
    "# Dice\n",
    "\n",
    "th = np.array([1./5, 1./5, 1./5, 1./5, 1./5])\n",
    "th = normalize(th * [0,    1./6, 1./8, 1./12, 1./20]) # 6\n",
    "th = normalize(th * [0,    0,    1./8, 1./12, 1./20]) # 8\n",
    "th = normalize(th * [0,    0,    1./8, 1./12, 1./20]) # 7\n",
    "th = normalize(th * [0,    0,    1./8, 1./12, 1./20]) # 7\n",
    "th = normalize(th * [0,    1./6, 1./8, 1./12, 1./20]) # 5\n",
    "th = normalize(th * [1./4, 1./6, 1./8, 1./12, 1./20]) # 4\n",
    "# th = normalize(th * [0,    0,    0,    0,     1./20]) # 15\n",
    "print th"
   ]
  },
  {
   "cell_type": "code",
   "execution_count": 11,
   "metadata": {
    "collapsed": false
   },
   "outputs": [
    {
     "data": {
      "text/plain": [
       "[<matplotlib.lines.Line2D at 0x1137f14d0>]"
      ]
     },
     "execution_count": 11,
     "metadata": {},
     "output_type": "execute_result"
    },
    {
     "data": {
      "image/png": "[encoded data removed]",
      "text/plain": [
       "<matplotlib.figure.Figure at 0x113509490>"
      ]
     },
     "metadata": {},
     "output_type": "display_data"
    }
   ],
   "source": [
    "# Trains\n",
    "\n",
    "def likelihood(n,i):\n",
    "    if i < n:\n",
    "        return 0\n",
    "    else:\n",
    "        return 1./i\n",
    "\n",
    "def gen(n):\n",
    "    ary = [0.]*1000\n",
    "    for i in range(1000):\n",
    "        ary[i] = likelihood(n,i)\n",
    "    return ary\n",
    "\n",
    "th = normalize(np.array([1.] * 1000))\n",
    "th = normalize(th * gen(321)) # 321\n",
    "th = normalize(th * gen(402))\n",
    "th = normalize(th * gen(102))\n",
    "th = normalize(th * gen(730))\n",
    "\n",
    "pylab.plot(th)"
   ]
  },
  {
   "cell_type": "code",
   "execution_count": 12,
   "metadata": {
    "collapsed": false
   },
   "outputs": [
    {
     "data": {
      "text/plain": [
       "[<matplotlib.lines.Line2D at 0x113725dd0>]"
      ]
     },
     "execution_count": 12,
     "metadata": {},
     "output_type": "execute_result"
    },
    {
     "data": {
      "image/png": "[encoded data removed]",
      "text/plain": [
       "<matplotlib.figure.Figure at 0x11373ce50>"
      ]
     },
     "metadata": {},
     "output_type": "display_data"
    }
   ],
   "source": [
    "# Euro\n",
    "\n",
    "def likelihood(n,i):\n",
    "    p = i/100.\n",
    "    if n == 'H':\n",
    "        return p\n",
    "    else:\n",
    "        return 1-p\n",
    "\n",
    "def gen(n):\n",
    "    ary = [0.]*100\n",
    "    for i in range(100):\n",
    "        ary[i] = likelihood(n,i)\n",
    "    return ary\n",
    "\n",
    "\n",
    "th = normalize(np.array([1.] * 100))\n",
    "for i in range(140):\n",
    "    th = normalize(th * gen('H'))\n",
    "for i in range(110):\n",
    "    th = normalize(th * gen('T'))\n",
    "\n",
    "pylab.plot(th)"
   ]
  },
  {
   "cell_type": "code",
   "execution_count": 13,
   "metadata": {
    "collapsed": false
   },
   "outputs": [
    {
     "data": {
      "text/plain": [
       "[<matplotlib.lines.Line2D at 0x1138fda90>]"
      ]
     },
     "execution_count": 13,
     "metadata": {},
     "output_type": "execute_result"
    },
    {
     "data": {
      "image/png": "[encoded data removed]",
      "text/plain": [
       "<matplotlib.figure.Figure at 0x1136ef7d0>"
      ]
     },
     "metadata": {},
     "output_type": "display_data"
    }
   ],
   "source": [
    "# Euro fairness\n",
    "\n",
    "def likelihood(n,i):\n",
    "    p = i/100.\n",
    "    if n == 'H':\n",
    "        return p\n",
    "    else:\n",
    "        return 1-p\n",
    "\n",
    "def gen(n):\n",
    "    ary = [0.]*100\n",
    "    for i in range(100):\n",
    "        ary[i] = likelihood(n,i)\n",
    "    return ary\n",
    "\n",
    "\n",
    "th = normalize(np.array([1.] * 100))\n",
    "for i in range(140):\n",
    "    th = normalize(th * gen('H'))\n",
    "for i in range(110):\n",
    "    th = normalize(th * gen('T'))\n",
    "\n",
    "pylab.plot(th)"
   ]
  },
  {
   "cell_type": "code",
   "execution_count": 89,
   "metadata": {
    "collapsed": false
   },
   "outputs": [
    {
     "name": "stderr",
     "output_type": "stream",
     "text": [
      "/usr/local/lib/python2.7/site-packages/ipykernel/__main__.py:4: RuntimeWarning: divide by zero encountered in divide\n"
     ]
    },
    {
     "data": {
      "text/plain": [
       "<matplotlib.image.AxesImage at 0x11debfe90>"
      ]
     },
     "execution_count": 89,
     "metadata": {},
     "output_type": "execute_result"
    },
    {
     "data": {
      "image/png": "[encoded data removed]",
      "text/plain": [
       "<matplotlib.figure.Figure at 0x11dd91ed0>"
      ]
     },
     "metadata": {},
     "output_type": "display_data"
    }
   ],
   "source": [
    "# Paintball http://www.greenteapress.com/thinkbayes/html/thinkbayes010.html#paintball\n",
    "\n",
    "def likelihood(sx, sy, wx):\n",
    "    locs = []\n",
    "    for lx in range(31):\n",
    "        theta = math.atan2(lx-sx, sy)\n",
    "        speed = float(sy) / math.cos(theta)**2\n",
    "        if speed == 0:\n",
    "            locs.append(0)\n",
    "        else:\n",
    "            locs.append(1. / speed)\n",
    "    locs = normalize(np.array(locs))\n",
    "    return locs[wx]\n",
    "\n",
    "def update(th, wx):\n",
    "    for x in range(31):\n",
    "        for y in range(51):\n",
    "            th[x,y] *= likelihood(x,y,wx)\n",
    "    return normalize(th)\n",
    "\n",
    "th = normalize(np.matrix([[1.]*51]*31))\n",
    "th = update(th, 15)\n",
    "th = update(th, 16)\n",
    "th = update(th, 18)\n",
    "th = update(th, 21)\n",
    "th = update(th, 3)\n",
    "th = update(th, 30)\n",
    "th = update(th, 25)\n",
    "\n",
    "pylab.matshow(th)"
   ]
  },
  {
   "cell_type": "code",
   "execution_count": 14,
   "metadata": {
    "collapsed": false
   },
   "outputs": [
    {
     "data": {
      "text/plain": [
       "<matplotlib.image.AxesImage at 0x114959190>"
      ]
     },
     "execution_count": 14,
     "metadata": {},
     "output_type": "execute_result"
    },
    {
     "data": {
      "image/png": "[encoded data removed]",
      "text/plain": [
       "<matplotlib.figure.Figure at 0x113421c50>"
      ]
     },
     "metadata": {},
     "output_type": "display_data"
    }
   ],
   "source": [
    "# Extended Trains\n",
    "\n",
    "def likelihood(seenTrain,numberOfTrains,firstSerialNumber):\n",
    "    if seenTrain < firstSerialNumber:\n",
    "        return 0.00001\n",
    "    if seenTrain >= firstSerialNumber + numberOfTrains:\n",
    "        return 0.00001\n",
    "    return 1./numberOfTrains\n",
    "\n",
    "def update(th, n):\n",
    "    for i in range(1000):\n",
    "        for j in range(1000):\n",
    "            th[i,j] *= likelihood(n,j,i)\n",
    "    return normalize(th)\n",
    "\n",
    "th = np.matrix([[1.] * 1000]*1000)\n",
    "th = normalize(th)\n",
    "th = update(th, 321)\n",
    "th = update(th, 402)\n",
    "# th = update(th, 102)\n",
    "th = update(th, 730)\n",
    "\n",
    "pylab.matshow(th)"
   ]
  },
  {
   "cell_type": "code",
   "execution_count": null,
   "metadata": {
    "collapsed": true
   },
   "outputs": [],
   "source": []
  }
 ],
 "metadata": {
  "kernelspec": {
   "display_name": "Python 2",
   "language": "python",
   "name": "python2"
  },
  "language_info": {
   "codemirror_mode": {
    "name": "ipython",
    "version": 2
   },
   "file_extension": ".py",
   "mimetype": "text/x-python",
   "name": "python",
   "nbconvert_exporter": "python",
   "pygments_lexer": "ipython2",
   "version": "2.7.10"
  }
 },
 "nbformat": 4,
 "nbformat_minor": 0
}
